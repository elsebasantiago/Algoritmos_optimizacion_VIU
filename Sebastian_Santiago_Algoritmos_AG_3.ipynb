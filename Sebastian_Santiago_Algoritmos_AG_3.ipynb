{
  "nbformat": 4,
  "nbformat_minor": 0,
  "metadata": {
    "colab": {
      "provenance": [],
      "include_colab_link": true
    },
    "kernelspec": {
      "name": "python3",
      "display_name": "Python 3"
    }
  },
  "cells": [
    {
      "cell_type": "markdown",
      "metadata": {
        "id": "view-in-github",
        "colab_type": "text"
      },
      "source": [
        "<a href=\"https://colab.research.google.com/github/elsebasantiago/Algoritmos_optimizacion_VIU/blob/main/Sebastian_Santiago_Algoritmos_AG_3.ipynb\" target=\"_parent\"><img src=\"https://colab.research.google.com/assets/colab-badge.svg\" alt=\"Open In Colab\"/></a>"
      ]
    },
    {
      "cell_type": "markdown",
      "source": [
        "# Actividad Guiada 3\n",
        "# Sebastián Santiago\n",
        "Link repositorio github\n",
        "https://github.com/elsebasantiago/Algoritmos_optimizacion_VIU"
      ],
      "metadata": {
        "id": "LkeI73BCM4Bc"
      }
    },
    {
      "cell_type": "markdown",
      "source": [
        "#Carga de librerias"
      ],
      "metadata": {
        "id": "m-gbxt9BFfdN"
      }
    },
    {
      "cell_type": "code",
      "metadata": {
        "id": "qP-Y3Gkfc4vn",
        "colab": {
          "base_uri": "https://localhost:8080/"
        },
        "outputId": "77ae2b6b-68ee-4dd2-fa0f-42153af46c30"
      },
      "source": [
        "!pip install requests    #Hacer llamadas http a paginas de la red\n",
        "!pip install tsplib95    #Modulo para las instancias del problema del TSP"
      ],
      "execution_count": 2,
      "outputs": [
        {
          "output_type": "stream",
          "name": "stdout",
          "text": [
            "Requirement already satisfied: requests in /usr/local/lib/python3.10/dist-packages (2.27.1)\n",
            "Requirement already satisfied: urllib3<1.27,>=1.21.1 in /usr/local/lib/python3.10/dist-packages (from requests) (1.26.16)\n",
            "Requirement already satisfied: certifi>=2017.4.17 in /usr/local/lib/python3.10/dist-packages (from requests) (2023.5.7)\n",
            "Requirement already satisfied: charset-normalizer~=2.0.0 in /usr/local/lib/python3.10/dist-packages (from requests) (2.0.12)\n",
            "Requirement already satisfied: idna<4,>=2.5 in /usr/local/lib/python3.10/dist-packages (from requests) (3.4)\n",
            "Collecting tsplib95\n",
            "  Downloading tsplib95-0.7.1-py2.py3-none-any.whl (25 kB)\n",
            "Requirement already satisfied: Click>=6.0 in /usr/local/lib/python3.10/dist-packages (from tsplib95) (8.1.3)\n",
            "Collecting Deprecated~=1.2.9 (from tsplib95)\n",
            "  Downloading Deprecated-1.2.14-py2.py3-none-any.whl (9.6 kB)\n",
            "Collecting networkx~=2.1 (from tsplib95)\n",
            "  Downloading networkx-2.8.8-py3-none-any.whl (2.0 MB)\n",
            "\u001b[2K     \u001b[90m━━━━━━━━━━━━━━━━━━━━━━━━━━━━━━━━━━━━━━━━\u001b[0m \u001b[32m2.0/2.0 MB\u001b[0m \u001b[31m40.2 MB/s\u001b[0m eta \u001b[36m0:00:00\u001b[0m\n",
            "\u001b[?25hRequirement already satisfied: tabulate~=0.8.7 in /usr/local/lib/python3.10/dist-packages (from tsplib95) (0.8.10)\n",
            "Requirement already satisfied: wrapt<2,>=1.10 in /usr/local/lib/python3.10/dist-packages (from Deprecated~=1.2.9->tsplib95) (1.14.1)\n",
            "Installing collected packages: networkx, Deprecated, tsplib95\n",
            "  Attempting uninstall: networkx\n",
            "    Found existing installation: networkx 3.1\n",
            "    Uninstalling networkx-3.1:\n",
            "      Successfully uninstalled networkx-3.1\n",
            "Successfully installed Deprecated-1.2.14 networkx-2.8.8 tsplib95-0.7.1\n"
          ]
        }
      ]
    },
    {
      "cell_type": "markdown",
      "source": [
        "#Carga de los datos del problema"
      ],
      "metadata": {
        "id": "nHRiJhTnFmuV"
      }
    },
    {
      "cell_type": "code",
      "metadata": {
        "id": "mnA47nhtdKOc"
      },
      "source": [
        "import urllib.request #Hacer llamadas http a paginas de la red\n",
        "import tsplib95       #Modulo para las instancias del problema del TSP\n",
        "import math           #Modulo de funciones matematicas. Se usa para exp\n",
        "import random                     #Para generar valores aleatorios\n",
        "\n",
        "#Descargamos el fichero de datos(Matriz de distancias)\n",
        "file = \"swiss42.tsp\" ;\n",
        "urllib.request.urlretrieve(\"http://comopt.ifi.uni-heidelberg.de/software/TSPLIB95/tsp/swiss42.tsp.gz\", file + '.gz')\n",
        "!gzip -d swiss42.tsp.gz     #Descomprimir el fichero de datos\n",
        "\n"
      ],
      "execution_count": 3,
      "outputs": []
    },
    {
      "cell_type": "markdown",
      "source": [
        "# Nueva sección"
      ],
      "metadata": {
        "id": "SDIgOWDyY2iP"
      }
    },
    {
      "cell_type": "code",
      "metadata": {
        "id": "RIXYkDWcfmwd"
      },
      "source": [
        "#Carga de datos y generación de objeto problem\n",
        "###############################################################################\n",
        "problem = tsplib95.load(file)\n",
        "\n",
        "#Nodos\n",
        "Nodos = list(problem.get_nodes())\n",
        "\n",
        "#Aristas\n",
        "Aristas = list(problem.get_edges())\n",
        "\n"
      ],
      "execution_count": 4,
      "outputs": []
    },
    {
      "cell_type": "code",
      "metadata": {
        "id": "a7bTofSnn_Jt",
        "colab": {
          "base_uri": "https://localhost:8080/"
        },
        "outputId": "fc32b7c5-09cb-439c-c31f-afeb4ef5ccd2"
      },
      "source": [
        "#Probamos algunas funciones del objeto problem\n",
        "\n",
        "#Distancia entre nodos\n",
        "problem.get_weight(0, 10)\n",
        "\n",
        "#Todas las funciones\n",
        "#Documentación: https://tsplib95.readthedocs.io/en/v0.6.1/modules.html\n",
        "\n",
        "#dir(problem)"
      ],
      "execution_count": 5,
      "outputs": [
        {
          "output_type": "execute_result",
          "data": {
            "text/plain": [
              "92"
            ]
          },
          "metadata": {},
          "execution_count": 5
        }
      ]
    },
    {
      "cell_type": "markdown",
      "source": [
        "#Funcionas basicas\n"
      ],
      "metadata": {
        "id": "BpwtaRQIFYvO"
      }
    },
    {
      "cell_type": "code",
      "metadata": {
        "id": "tzrkaBS3gmmz"
      },
      "source": [
        "\n",
        "#Funciones basicas\n",
        "###############################################################################\n",
        "\n",
        "#Se genera una solucion aleatoria con comienzo en en el nodo 0\n",
        "def crear_solucion(Nodos):\n",
        "  solucion = [Nodos[0]]\n",
        "  for n in Nodos[1:]:\n",
        "    solucion +=  [random.choice(list(set(Nodos) - set({Nodos[0]}) - set(solucion)))]\n",
        "  return solucion\n",
        "\n",
        "#Devuelve la distancia entre dos nodos\n",
        "def distancia(a,b, problem):\n",
        "  return problem.get_weight(a,b)\n",
        "\n",
        "#Devuelve la distancia total de una trayectoria/solucion\n",
        "def distancia_total(solucion, problem):\n",
        "  distancia_total = 0\n",
        "  for i in range(len(solucion)-1):\n",
        "    distancia_total += distancia(solucion[i] ,solucion[i+1] ,  problem)\n",
        "  return distancia_total + distancia(solucion[len(solucion)-1] ,solucion[0], problem)\n",
        "\n"
      ],
      "execution_count": 6,
      "outputs": []
    },
    {
      "cell_type": "markdown",
      "source": [
        "#BUSQUEDA ALEATORIA"
      ],
      "metadata": {
        "id": "zfwRoUPDYVTr"
      }
    },
    {
      "cell_type": "code",
      "source": [
        "###############################################################################\n",
        "# BUSQUEDA ALEATORIA\n",
        "###############################################################################\n",
        "\n",
        "def busqueda_aleatoria(problem, N):\n",
        "  #N es el numero de iteraciones\n",
        "  Nodos = list(problem.get_nodes())\n",
        "\n",
        "  mejor_solucion = []\n",
        "  #mejor_distancia = 10e100                         #Inicializamos con un valor alto\n",
        "  mejor_distancia = float('inf')                    #Inicializamos con un valor alto\n",
        "\n",
        "  for i in range(N):                                #Criterio de parada: repetir N veces pero podemos incluir otros\n",
        "    solucion = crear_solucion(Nodos)                #Genera una solucion aleatoria\n",
        "    distancia = distancia_total(solucion, problem)  #Calcula el valor objetivo(distancia total)\n",
        "\n",
        "    if distancia < mejor_distancia:                 #Compara con la mejor obtenida hasta ahora\n",
        "      mejor_solucion = solucion\n",
        "      mejor_distancia = distancia\n",
        "\n",
        "\n",
        "  print(\"Mejor solución:\" , mejor_solucion)\n",
        "  print(\"Distancia     :\" , mejor_distancia)\n",
        "  return mejor_solucion\n",
        "\n",
        "\n",
        "#Busqueda aleatoria con 5000 iteraciones\n",
        "solucion = busqueda_aleatoria(problem, 15000)"
      ],
      "metadata": {
        "id": "U7FEJ5OHG2vl",
        "colab": {
          "base_uri": "https://localhost:8080/"
        },
        "outputId": "3f5c7ca4-c11d-461a-e545-99429889c9f3"
      },
      "execution_count": 7,
      "outputs": [
        {
          "output_type": "stream",
          "name": "stdout",
          "text": [
            "Mejor solución: [0, 35, 36, 33, 9, 12, 5, 19, 7, 38, 20, 32, 29, 39, 21, 41, 25, 14, 17, 15, 30, 10, 40, 6, 2, 34, 37, 26, 18, 22, 24, 23, 28, 3, 13, 16, 4, 1, 8, 31, 27, 11]\n",
            "Distancia     : 3714\n"
          ]
        }
      ]
    },
    {
      "cell_type": "markdown",
      "source": [
        "#BUSQUEDA LOCAL"
      ],
      "metadata": {
        "id": "gxyEjqm8YZIk"
      }
    },
    {
      "cell_type": "code",
      "source": [
        "###############################################################################\n",
        "# BUSQUEDA LOCAL\n",
        "###############################################################################\n",
        "def genera_vecina(solucion):\n",
        "  #Generador de soluciones vecinas: 2-opt (intercambiar 2 nodos) Si hay N nodos se generan (N-1)x(N-2)/2 soluciones\n",
        "  #Se puede modificar para aplicar otros generadores distintos que 2-opt\n",
        "  #print(solucion)\n",
        "  mejor_solucion = []\n",
        "  mejor_distancia = 10e100\n",
        "  for i in range(1,len(solucion)-1):          #Recorremos todos los nodos en bucle doble para evaluar todos los intercambios 2-opt\n",
        "    for j in range(i+1, len(solucion)-1):\n",
        "\n",
        "      #Se genera una nueva solución intercambiando los dos nodos i,j:\n",
        "      #  (usamos el operador + que para listas en python las concatena) : ej.: [1,2] + [3] = [1,2,3]\n",
        "      vecina = solucion[:i] + [solucion[j]] + solucion[i+1:j] + [solucion[i]] + solucion[j+1:]\n",
        "\n",
        "      #Se evalua la nueva solución ...\n",
        "      distancia_vecina = distancia_total(vecina, problem)\n",
        "\n",
        "      #... para guardarla si mejora las anteriores\n",
        "      if distancia_vecina <= mejor_distancia:\n",
        "        mejor_distancia = distancia_vecina\n",
        "        mejor_solucion = vecina\n",
        "  return mejor_solucion\n",
        "\n",
        "\n",
        "#solucion = [1, 47, 13, 41, 40, 19, 42, 44, 37, 5, 22, 28, 3, 2, 29, 21, 50, 34, 30, 9, 16, 11, 38, 49, 10, 39, 33, 45, 15, 24, 43, 26, 31, 36, 35, 20, 8, 7, 23, 48, 27, 12, 17, 4, 18, 25, 14, 6, 51, 46, 32]\n",
        "print(\"Distancia Solucion Incial:\" , distancia_total(solucion, problem))\n",
        "\n",
        "\n",
        "nueva_solucion = genera_vecina(solucion)\n",
        "print(\"Distancia Mejor Solucion Local:\", distancia_total(nueva_solucion, problem))\n"
      ],
      "metadata": {
        "colab": {
          "base_uri": "https://localhost:8080/"
        },
        "id": "sOo-N3yIX7bp",
        "outputId": "b62747f9-9cd9-4ae9-8734-04eeb0c7f229"
      },
      "execution_count": 8,
      "outputs": [
        {
          "output_type": "stream",
          "name": "stdout",
          "text": [
            "Distancia Solucion Incial: 3714\n",
            "Distancia Mejor Solucion Local: 3514\n"
          ]
        }
      ]
    },
    {
      "cell_type": "code",
      "source": [
        "#Busqueda Local:\n",
        "#  - Sobre el operador de vecindad 2-opt(funcion genera_vecina)\n",
        "#  - Sin criterio de parada, se para cuando no es posible mejorar.\n",
        "def busqueda_local(problem):\n",
        "  mejor_solucion = []\n",
        "\n",
        "  #Generar una solucion inicial de referencia(aleatoria)\n",
        "  solucion_referencia = crear_solucion(Nodos)\n",
        "  mejor_distancia = distancia_total(solucion_referencia, problem)\n",
        "  print (f'distancia inicial = {mejor_distancia}')\n",
        "\n",
        "  iteracion=0             #Un contador para saber las iteraciones que hacemos\n",
        "  while(1):\n",
        "    iteracion +=1         #Incrementamos el contador\n",
        "    #print('#',iteracion)\n",
        "\n",
        "    #Obtenemos la mejor vecina ...\n",
        "    vecina = genera_vecina(solucion_referencia)\n",
        "\n",
        "    #... y la evaluamos para ver si mejoramos respecto a lo encontrado hasta el momento\n",
        "    distancia_vecina = distancia_total(vecina, problem)\n",
        "\n",
        "    #Si no mejoramos hay que terminar. Hemos llegado a un minimo local(según nuestro operador de vencindad 2-opt)\n",
        "    if distancia_vecina < mejor_distancia:\n",
        "      #mejor_solucion = copy.deepcopy(vecina)   #Con copia profunda. Las copias en python son por referencia\n",
        "      mejor_solucion = vecina                   #Guarda la mejor solución encontrada\n",
        "      mejor_distancia = distancia_vecina\n",
        "\n",
        "    else:\n",
        "      print(\"En la iteracion \", iteracion, \", la mejor solución encontrada es:\" , mejor_solucion)\n",
        "      print(\"Distancia     :\" , mejor_distancia)\n",
        "      return mejor_solucion\n",
        "\n",
        "    solucion_referencia = vecina\n",
        "\n",
        "\n",
        "sol = busqueda_local(problem )"
      ],
      "metadata": {
        "colab": {
          "base_uri": "https://localhost:8080/"
        },
        "id": "2DKvldWcYOU9",
        "outputId": "cf3ed1e4-bce1-40a7-e8eb-af709f672fc0"
      },
      "execution_count": 9,
      "outputs": [
        {
          "output_type": "stream",
          "name": "stdout",
          "text": [
            "distancia inicial = 4892\n",
            "En la iteracion  39 , la mejor solución encontrada es: [0, 2, 8, 10, 18, 5, 14, 16, 15, 37, 17, 7, 19, 13, 26, 29, 30, 38, 22, 39, 24, 40, 21, 9, 23, 41, 25, 11, 12, 4, 32, 34, 33, 20, 35, 36, 31, 1, 6, 3, 27, 28]\n",
            "Distancia     : 1660\n"
          ]
        }
      ]
    },
    {
      "cell_type": "code",
      "source": [
        "#Busqueda Local con multi arranque\n",
        "#  - Sobre el operador de vecindad 2-opt(funcion genera_vecina)\n",
        "#  - Sin criterio de parada, se para cuando no es posible mejorar.\n",
        "def busqueda_local(problem):\n",
        "  mejor_solucion = []\n",
        "\n",
        "  #Generar una solucion inicial de referencia(aleatoria)\n",
        "  total_iter = 0\n",
        "  solucion_referencia = crear_solucion(Nodos)\n",
        "  mejor_distancia = distancia_total(solucion_referencia, problem)\n",
        "  mejor_distancia_vecina = mejor_distancia\n",
        "  print (f'distancia inicial = {mejor_distancia}')\n",
        "\n",
        "  while(True):\n",
        "    iteracion=0             #Un contador para saber las iteraciones que hacemos\n",
        "    next_vecino = True\n",
        "    while(next_vecino):\n",
        "      iteracion +=1         #Incrementamos el contador\n",
        "\n",
        "      #Obtenemos la mejor vecina ...\n",
        "      vecina = genera_vecina(solucion_referencia)\n",
        "\n",
        "      #... y la evaluamos para ver si mejoramos respecto a lo encontrado hasta el momento\n",
        "      distancia_vecina = distancia_total(vecina, problem)\n",
        "\n",
        "      #Si no mejoramos hay que terminar. Hemos llegado a un minimo local(según nuestro operador de vencindad 2-opt)\n",
        "      if distancia_vecina < mejor_distancia_vecina:\n",
        "        mejor_distancia_vecina = distancia_vecina\n",
        "\n",
        "      else:\n",
        "        #print(\"En la iteracion \", iteracion, \", la mejor solución vecina encontrada hasta el momento es:\" , vecina)\n",
        "        print(f'En la iteracion {iteracion} Distancia     : {distancia_vecina}')\n",
        "        next_vecino = False\n",
        "\n",
        "      solucion_referencia = vecina\n",
        "\n",
        "    if mejor_distancia_vecina < mejor_distancia:\n",
        "      mejor_solucion = vecina\n",
        "      mejor_distancia = mejor_distancia_vecina\n",
        "      print(\"En el arranque \", total_iter, \", la mejor solución encontrada hasta el momento es:\" , mejor_solucion)\n",
        "      print(\"Distancia     :\" , mejor_distancia)\n",
        "\n",
        "    solucion_referencia = crear_solucion(Nodos)\n",
        "    distancia_vecina = distancia_total(solucion_referencia, problem)\n",
        "    mejor_distancia_vecina = distancia_vecina\n",
        "    total_iter +=1\n",
        "\n",
        "    if  total_iter == 30:\n",
        "      print(\"La mejor solución encontrada es:\" , mejor_solucion)\n",
        "      print(\"Distancia     :\" , mejor_distancia)\n",
        "      return mejor_solucion\n",
        "\n",
        "\n",
        "sol = busqueda_local(problem )"
      ],
      "metadata": {
        "id": "lI6DzRXWScAg",
        "outputId": "2494a259-a75a-4c79-816a-b9084c2d80fb",
        "colab": {
          "base_uri": "https://localhost:8080/"
        }
      },
      "execution_count": 10,
      "outputs": [
        {
          "output_type": "stream",
          "name": "stdout",
          "text": [
            "distancia inicial = 4563\n",
            "En la iteracion 40 Distancia     : 1735\n",
            "En el arranque  0 , la mejor solución encontrada hasta el momento es: [0, 27, 3, 4, 6, 5, 26, 18, 41, 23, 9, 39, 29, 8, 10, 25, 11, 12, 13, 19, 16, 36, 35, 20, 33, 34, 32, 31, 17, 37, 15, 14, 7, 1, 2, 28, 30, 38, 24, 40, 21, 22]\n",
            "Distancia     : 1735\n",
            "En la iteracion 35 Distancia     : 1849\n",
            "En la iteracion 40 Distancia     : 2020\n",
            "En la iteracion 31 Distancia     : 1882\n",
            "En la iteracion 44 Distancia     : 1678\n",
            "En el arranque  4 , la mejor solución encontrada hasta el momento es: [0, 31, 17, 7, 8, 41, 23, 40, 24, 21, 9, 39, 22, 38, 29, 30, 32, 34, 33, 20, 35, 36, 37, 15, 16, 14, 1, 6, 26, 18, 13, 19, 5, 3, 27, 2, 28, 10, 25, 11, 12, 4]\n",
            "Distancia     : 1678\n",
            "En la iteracion 38 Distancia     : 1878\n",
            "En la iteracion 35 Distancia     : 1980\n",
            "En la iteracion 44 Distancia     : 1677\n",
            "En el arranque  7 , la mejor solución encontrada hasta el momento es: [0, 1, 3, 4, 6, 26, 18, 10, 41, 23, 40, 24, 21, 39, 22, 38, 34, 32, 30, 29, 9, 8, 27, 2, 5, 13, 19, 14, 16, 15, 37, 7, 17, 31, 36, 35, 33, 20, 28, 12, 11, 25]\n",
            "Distancia     : 1675\n",
            "En la iteracion 37 Distancia     : 1801\n",
            "En la iteracion 33 Distancia     : 1871\n",
            "En la iteracion 42 Distancia     : 1824\n",
            "En la iteracion 33 Distancia     : 1795\n",
            "En la iteracion 35 Distancia     : 1778\n",
            "En la iteracion 42 Distancia     : 1819\n",
            "En la iteracion 31 Distancia     : 2115\n",
            "En la iteracion 40 Distancia     : 1782\n",
            "En la iteracion 37 Distancia     : 1871\n",
            "En la iteracion 37 Distancia     : 1653\n",
            "En el arranque  17 , la mejor solución encontrada hasta el momento es: [0, 27, 2, 3, 4, 18, 12, 11, 13, 19, 5, 6, 32, 34, 33, 35, 36, 17, 37, 15, 16, 14, 26, 10, 25, 41, 23, 40, 24, 21, 39, 22, 38, 9, 8, 29, 30, 28, 20, 31, 7, 1]\n",
            "Distancia     : 1653\n",
            "En la iteracion 32 Distancia     : 1787\n",
            "En la iteracion 40 Distancia     : 1842\n",
            "En la iteracion 47 Distancia     : 1676\n",
            "En la iteracion 33 Distancia     : 1675\n",
            "En la iteracion 30 Distancia     : 1881\n",
            "En la iteracion 31 Distancia     : 1905\n",
            "En la iteracion 41 Distancia     : 1964\n",
            "En la iteracion 30 Distancia     : 1675\n",
            "En la iteracion 36 Distancia     : 1795\n",
            "En la iteracion 31 Distancia     : 2091\n",
            "En la iteracion 33 Distancia     : 1798\n",
            "En la iteracion 33 Distancia     : 1995\n",
            "La mejor solución encontrada es: [0, 27, 2, 3, 4, 18, 12, 11, 13, 19, 5, 6, 32, 34, 33, 35, 36, 17, 37, 15, 16, 14, 26, 10, 25, 41, 23, 40, 24, 21, 39, 22, 38, 9, 8, 29, 30, 28, 20, 31, 7, 1]\n",
            "Distancia     : 1653\n"
          ]
        }
      ]
    }
  ]
}