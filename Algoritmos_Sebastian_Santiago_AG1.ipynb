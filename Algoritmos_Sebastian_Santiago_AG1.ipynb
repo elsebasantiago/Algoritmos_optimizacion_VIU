{
  "nbformat": 4,
  "nbformat_minor": 0,
  "metadata": {
    "colab": {
      "provenance": [],
      "authorship_tag": "ABX9TyORSJ00d8o7iv3FBSrFDeXo",
      "include_colab_link": true
    },
    "kernelspec": {
      "name": "python3",
      "display_name": "Python 3"
    },
    "language_info": {
      "name": "python"
    }
  },
  "cells": [
    {
      "cell_type": "markdown",
      "metadata": {
        "id": "view-in-github",
        "colab_type": "text"
      },
      "source": [
        "<a href=\"https://colab.research.google.com/github/elsebasantiago/Algoritmos_optimizacion_VIU/blob/main/Algoritmos_Sebastian_Santiago_AG1.ipynb\" target=\"_parent\"><img src=\"https://colab.research.google.com/assets/colab-badge.svg\" alt=\"Open In Colab\"/></a>"
      ]
    },
    {
      "cell_type": "markdown",
      "source": [
        "# Actividad Guiada 1\n",
        "# Sebastián Santiago\n",
        "Link repositorio github\n",
        "https://github.com/elsebasantiago/Algoritmos_optimizacion_VIU"
      ],
      "metadata": {
        "id": "Zs_S9nOpVD5r"
      }
    },
    {
      "cell_type": "code",
      "source": [
        "# Torres Hanoi\n",
        "def torres_hanoi(N, origen, destino, pivote):\n",
        "  if N == 1:\n",
        "    print(f\"Mover bloque de'{origen} a {destino}\")\n",
        "    return\n",
        "\n",
        "  torres_hanoi(N-1, origen, pivote, destino)\n",
        "  print(f\"Mover bloque de'{origen} a {destino}\")\n",
        "  torres_hanoi(N-1, pivote, destino, origen)\n",
        "\n",
        "torres_hanoi(4,1,3,2)"
      ],
      "metadata": {
        "colab": {
          "base_uri": "https://localhost:8080/"
        },
        "id": "T0YRrUieVPLV",
        "outputId": "7498c360-4a06-4740-a972-9ded76a295fe"
      },
      "execution_count": null,
      "outputs": [
        {
          "output_type": "stream",
          "name": "stdout",
          "text": [
            "Mover bloque de'1 a 2\n",
            "Mover bloque de'1 a 3\n",
            "Mover bloque de'2 a 3\n",
            "Mover bloque de'1 a 2\n",
            "Mover bloque de'3 a 1\n",
            "Mover bloque de'3 a 2\n",
            "Mover bloque de'1 a 2\n",
            "Mover bloque de'1 a 3\n",
            "Mover bloque de'2 a 3\n",
            "Mover bloque de'2 a 1\n",
            "Mover bloque de'3 a 1\n",
            "Mover bloque de'2 a 3\n",
            "Mover bloque de'1 a 2\n",
            "Mover bloque de'1 a 3\n",
            "Mover bloque de'2 a 3\n"
          ]
        }
      ]
    },
    {
      "cell_type": "code",
      "source": [],
      "metadata": {
        "id": "XWdIq2oZ7RG-"
      },
      "execution_count": null,
      "outputs": []
    },
    {
      "cell_type": "code",
      "source": [
        "#Cambio Monedas\n",
        "def cambio_moneda(CANTIDAD, SISTEMA):\n",
        "  print(f\"Sistema: \")\n",
        "  print(SISTEMA)\n",
        "\n",
        "  SOLUCION = [0 for i in range(len(SISTEMA))]\n",
        "  VALOR_ACUMULADO = 0\n",
        "\n",
        "  for i in range(len(SISTEMA)):\n",
        "    monedas = int((CANTIDAD-VALOR_ACUMULADO)/SISTEMA[i])\n",
        "    SOLUCION[i] = monedas\n",
        "    VALOR_ACUMULADO += monedas*SISTEMA[i]\n",
        "\n",
        "    if VALOR_ACUMULADO == CANTIDAD: break\n",
        "  return SOLUCION\n",
        "\n",
        "SISTEMA = [25, 10, 5, 1]\n",
        "cambio_moneda(54, SISTEMA)"
      ],
      "metadata": {
        "colab": {
          "base_uri": "https://localhost:8080/"
        },
        "id": "2UpaKcKgiHyf",
        "outputId": "7017fead-2142-49a1-8ceb-2e95a376bd2f"
      },
      "execution_count": null,
      "outputs": [
        {
          "output_type": "stream",
          "name": "stdout",
          "text": [
            "Sistema: \n",
            "[25, 10, 5, 1]\n"
          ]
        },
        {
          "output_type": "execute_result",
          "data": {
            "text/plain": [
              "[2, 0, 0, 4]"
            ]
          },
          "metadata": {},
          "execution_count": 27
        }
      ]
    },
    {
      "cell_type": "code",
      "source": [
        "# Encontrar 2 puntos mas cercanos 1D, fuerza bruta\n",
        "import random\n",
        "\n",
        "def obtener_dist_menor(lista):\n",
        "  lista.sort()\n",
        "  distancia = lista[1]-lista[0]\n",
        "\n",
        "  for i in range(len(lista)-1):\n",
        "    distancia_actual = lista[i+1]-lista[i]\n",
        "    if distancia_actual <=1:\n",
        "      distancia = distancia_actual\n",
        "      break\n",
        "\n",
        "    elif distancia_actual < distancia:\n",
        "      distancia = distancia_actual\n",
        "\n",
        "  return distancia\n",
        "\n",
        "lista1D = [random.randrange(1,10000) for i in range(1000)]\n",
        "print (obtener_dist_menor(lista1D))\n"
      ],
      "metadata": {
        "colab": {
          "base_uri": "https://localhost:8080/"
        },
        "id": "VTj1JmYauQz3",
        "outputId": "8173822f-61a2-4a7c-8ef1-1fca918efc3a"
      },
      "execution_count": null,
      "outputs": [
        {
          "output_type": "stream",
          "name": "stdout",
          "text": [
            "1\n"
          ]
        }
      ]
    }
  ]
}