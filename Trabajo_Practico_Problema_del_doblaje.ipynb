{
  "nbformat": 4,
  "nbformat_minor": 0,
  "metadata": {
    "colab": {
      "provenance": [],
      "authorship_tag": "ABX9TyMK765H+i6QRDutUVW90r9W",
      "include_colab_link": true
    },
    "kernelspec": {
      "name": "python3",
      "display_name": "Python 3"
    },
    "language_info": {
      "name": "python"
    }
  },
  "cells": [
    {
      "cell_type": "markdown",
      "metadata": {
        "id": "view-in-github",
        "colab_type": "text"
      },
      "source": [
        "<a href=\"https://colab.research.google.com/github/elsebasantiago/Algoritmos_optimizacion_VIU/blob/main/Trabajo_Practico_Problema_del_doblaje.ipynb\" target=\"_parent\"><img src=\"https://colab.research.google.com/assets/colab-badge.svg\" alt=\"Open In Colab\"/></a>"
      ]
    },
    {
      "cell_type": "markdown",
      "source": [
        "# Trabajo Práctico\n",
        "# Sebastián Santiago\n",
        "Link repositorio github\n",
        "https://github.com/elsebasantiago/Algoritmos_optimizacion_VIU"
      ],
      "metadata": {
        "id": "DpG-g35ngnh6"
      }
    },
    {
      "cell_type": "code",
      "execution_count": 1,
      "metadata": {
        "id": "6FYAGn18ie7W"
      },
      "outputs": [],
      "source": [
        "import os\n",
        "import pandas as pd\n",
        "import numpy as np\n",
        "from collections import deque\n",
        "import random\n",
        "\n",
        "ruta = os.path.join(\"\" ,\"Datos problema doblaje.csv\")\n",
        "datos = pd.read_csv(ruta, sep=',')\n",
        "ds = datos.drop(['Unnamed: 11'], axis =1)"
      ]
    },
    {
      "cell_type": "markdown",
      "source": [
        "##Funciones Básicas"
      ],
      "metadata": {
        "id": "6YNdcfKXsV7U"
      }
    },
    {
      "cell_type": "code",
      "source": [
        "# generamos la fucnión de cálculo del costo\n",
        "def costo_tomas(toma_origen, toma_destino):\n",
        "  v_costo = toma_origen - toma_destino\n",
        "  v_costo[v_costo > 0] = 0\n",
        "  return sum(pow(element,2) for element in v_costo)\n",
        "\n",
        "\n",
        "#Matriz de distancia entre tomas. Indica cuantos actores de diferencia tiene\n",
        "# cada toma en la lista original (lista_tomas) versus una toma en particular\n",
        "def matriz_distancia_toma(toma , lista_tomas):\n",
        "\n",
        "  #Obtenemos la diferencia\n",
        "  distancia_tomas = lista_tomas - toma\n",
        "\n",
        "  #Los actores con valores negativos indican que están considerados en la toma\n",
        "  # de comparación  por tanto, no los consideramos (igualamos a cero)\n",
        "  # A su vez, se anulan los actores que participan en ambas tomas\n",
        "  mask = distancia_tomas < 0\n",
        "  distancia_tomas[mask] = 0\n",
        "\n",
        "  #la suma de los actores restantes es la distancia entre las tomas\n",
        "  return np.sum(distancia_tomas, axis = 1)\n",
        "\n",
        "#Obtendremos el costo adicional que genera incorporar una nueva toma\n",
        "def costo_adicional_toma (toma1, toma2):\n",
        "\n",
        "  #creamos un vector diferencia entre tomas\n",
        "  v_dif_tomas = toma2 - toma1\n",
        "\n",
        "  #quitamos los valores negativos\n",
        "  mask = v_dif_tomas <0\n",
        "  v_dif_tomas[mask] = 0\n",
        "\n",
        "  #sumamos los valores restantes para obtener el costo adicional\n",
        "  #que incorporó la nueva toma\n",
        "  return np.sum(v_dif_tomas)\n",
        "\n",
        "\n",
        "#consideramos un actor mas a la lista de actores del día\n",
        "def adiciona_actor(toma1, toma2):\n",
        "  #obtenemos un vector que será la suma de los actores que participan\n",
        "  #en ambas tomas\n",
        "  v_sum_tomas = toma1 + toma2\n",
        "\n",
        "  #normalizamos en 1 las posiciones de actores que coinciden\n",
        "  mask = v_sum_tomas > 1\n",
        "  v_sum_tomas[mask] = 1\n",
        "\n",
        "  return v_sum_tomas\n",
        "\n",
        "# Función que crea na solución aleatoria\n",
        "def crea_solucion_aleatoria():\n",
        "  return np.array(random.sample(range(1, 31), 30))\n",
        "\n"
      ],
      "metadata": {
        "id": "0aYKe0w2APOc"
      },
      "execution_count": 2,
      "outputs": []
    },
    {
      "cell_type": "code",
      "source": [
        "# creamos una función que devuelve los días, tomas y costos\n",
        "def crear_dias_filmacion(lista_tomas, actores_en_toma):\n",
        "\n",
        "  dias_tomas = np.zeros((len(lista_tomas),3)).astype(int)\n",
        "  actores_toma_previa = np.zeros(actores_en_toma.shape[1])\n",
        "\n",
        "  #Creamos una lista tipo fifo para ir recorriendo las tomas en la secuencia entregada\n",
        "  lista_tomas_fifo = deque(lista_tomas.tolist())\n",
        "  costo_total=0\n",
        "\n",
        "  dia = 1\n",
        "  j = 1\n",
        "  i = 0\n",
        "\n",
        "  while lista_tomas_fifo:\n",
        "\n",
        "    # obtenemos el número de la primera toma\n",
        "    toma = lista_tomas_fifo.popleft()\n",
        "    #n_toma = lista_tomas[i]\n",
        "\n",
        "    # obtenemos los actores que participan en la toma\n",
        "    actores_toma_actual = actores_en_toma[toma-1]\n",
        "\n",
        "    # Calculamos el costo de la toma, según la cantidad de actores\n",
        "    costo_toma = np.sum(actores_toma_actual)\n",
        "    costo_total += costo_toma\n",
        "\n",
        "    # Matríz (día de toma, número de toma)z\n",
        "    dias_tomas[i]= [dia, toma, costo_toma]\n",
        "\n",
        "    #print(f'día = {dia} nro_toma = {toma} toma actual = {actores_toma_actual} costo = {costo_toma}')\n",
        "\n",
        "    j=1\n",
        "\n",
        "    while j < 6 and lista_tomas_fifo:\n",
        "\n",
        "      #Tomamos la siguiente toma en la lista\n",
        "      toma = lista_tomas_fifo.popleft()\n",
        "\n",
        "      #Obtenemos los actores que deben participar en la siguiente toma en la lista\n",
        "      actores_toma_siguiente = actores_en_toma[toma-1]\n",
        "\n",
        "      #Calculamos el costo adiciona que conlleva considerar la nueva toma\n",
        "      costo_toma = costo_adicional_toma(actores_toma_actual, actores_toma_siguiente)\n",
        "\n",
        "      #Almacenamos el día, número de toma y costo adicional de la nueva toma\n",
        "      dias_tomas[i+j]= [dia, toma, costo_toma]\n",
        "\n",
        "      #print(f'dia = {dia} nro_toma = {toma} toma actual = {actores_toma_siguiente} costo = {costo_toma}')\n",
        "\n",
        "      #Incluimos los nuevos actores a la lista de actores considerados para el día\n",
        "      actores_toma_actual = adiciona_actor(actores_toma_actual,actores_toma_siguiente)\n",
        "      costo_total += costo_toma\n",
        "      j+=1\n",
        "\n",
        "    i+=j\n",
        "    dia +=1\n",
        "  #print (f'costo total = {costo_total}')\n",
        "  return dias_tomas\n"
      ],
      "metadata": {
        "id": "59dmuvA8xMhr"
      },
      "execution_count": 3,
      "outputs": []
    },
    {
      "cell_type": "markdown",
      "source": [
        "## Prueba de diferentes soluciones manuales"
      ],
      "metadata": {
        "id": "Bh31PYsUspEp"
      }
    },
    {
      "cell_type": "code",
      "source": [
        "#Calculamos el costo de filmar las tomas en el orden presentado (de menor a mayor)\n",
        "\n",
        "tomas_actores = np.array(datos[['1', '2','3','4', '5', '6', '7','8','9','10']]).copy()\n",
        "tomas = np.array(datos['Toma']).copy()\n",
        "\n",
        "solucion = crear_dias_filmacion(tomas, tomas_actores)\n",
        "print (solucion)\n",
        "print (f'solucion = {np.sum(solucion[:,2], axis = 0)}')\n",
        "\n"
      ],
      "metadata": {
        "colab": {
          "base_uri": "https://localhost:8080/"
        },
        "id": "sb0IIhxWU__O",
        "outputId": "ea49f0a6-38b0-431a-8ff3-a5d550f42537"
      },
      "execution_count": 23,
      "outputs": [
        {
          "output_type": "stream",
          "name": "stdout",
          "text": [
            "[[ 1  1  5]\n",
            " [ 1  2  0]\n",
            " [ 1  3  1]\n",
            " [ 1  4  1]\n",
            " [ 1  5  0]\n",
            " [ 1  6  0]\n",
            " [ 2  7  4]\n",
            " [ 2  8  1]\n",
            " [ 2  9  0]\n",
            " [ 2 10  1]\n",
            " [ 2 11  2]\n",
            " [ 2 12  0]\n",
            " [ 3 13  3]\n",
            " [ 3 14  2]\n",
            " [ 3 15  2]\n",
            " [ 3 16  1]\n",
            " [ 3 17  0]\n",
            " [ 3 18  0]\n",
            " [ 4 19  2]\n",
            " [ 4 20  2]\n",
            " [ 4 21  2]\n",
            " [ 4 22  1]\n",
            " [ 4 23  0]\n",
            " [ 4 24  0]\n",
            " [ 5 25  4]\n",
            " [ 5 26  3]\n",
            " [ 5 27  0]\n",
            " [ 5 28  0]\n",
            " [ 5 29  1]\n",
            " [ 5 30  0]]\n",
            "solucion = 38\n"
          ]
        }
      ]
    },
    {
      "cell_type": "code",
      "source": [
        "#Calculamos el costo de filmar las tomas en el orden inverso\n",
        "#al presentado (de mayor a menor)\n",
        "\n",
        "ds = datos.drop([ 'Total'], axis =1).copy()\n",
        "\n",
        "ds =ds.sort_values(by='Toma', ascending=False)\n",
        "tomas_actores = np.array(datos[['1', '2','3','4', '5', '6', '7','8','9','10']])\n",
        "tomas = np.array(datos['Toma'])\n",
        "\n",
        "solucion = crear_dias_filmacion(tomas, tomas_actores)\n",
        "print (solucion)\n",
        "print (f'solucion = {np.sum(solucion[:,2], axis = 0)}')\n"
      ],
      "metadata": {
        "colab": {
          "base_uri": "https://localhost:8080/"
        },
        "id": "C6iidFo6mMuf",
        "outputId": "a50141ff-ad40-4a89-932a-526d73ad2336"
      },
      "execution_count": 25,
      "outputs": [
        {
          "output_type": "stream",
          "name": "stdout",
          "text": [
            "[[ 1  1  5]\n",
            " [ 1  2  0]\n",
            " [ 1  3  1]\n",
            " [ 1  4  1]\n",
            " [ 1  5  0]\n",
            " [ 1  6  0]\n",
            " [ 2  7  4]\n",
            " [ 2  8  1]\n",
            " [ 2  9  0]\n",
            " [ 2 10  1]\n",
            " [ 2 11  2]\n",
            " [ 2 12  0]\n",
            " [ 3 13  3]\n",
            " [ 3 14  2]\n",
            " [ 3 15  2]\n",
            " [ 3 16  1]\n",
            " [ 3 17  0]\n",
            " [ 3 18  0]\n",
            " [ 4 19  2]\n",
            " [ 4 20  2]\n",
            " [ 4 21  2]\n",
            " [ 4 22  1]\n",
            " [ 4 23  0]\n",
            " [ 4 24  0]\n",
            " [ 5 25  4]\n",
            " [ 5 26  3]\n",
            " [ 5 27  0]\n",
            " [ 5 28  0]\n",
            " [ 5 29  1]\n",
            " [ 5 30  0]]\n",
            "solucion = 38\n"
          ]
        }
      ]
    },
    {
      "cell_type": "code",
      "source": [
        "#Calculamos el costo de filmar las tomas ordenándolas primero con las\n",
        "#escenas que demanan mayor cantidad de acotores y avanzando en orden decreciente\n",
        "\n",
        "ds = datos.sort_values(by='Total', ascending=False)\n",
        "ds = ds.drop(['Total'], axis =1)\n",
        "\n",
        "tomas_actores = np.array(datos[['1', '2','3','4', '5', '6', '7','8','9','10']])\n",
        "tomas = np.array(datos['Toma'])\n",
        "\n",
        "solucion = crear_dias_filmacion(tomas, tomas_actores)\n",
        "print (solucion)\n",
        "print (f'solucion = {np.sum(solucion[:,2], axis = 0)}')\n"
      ],
      "metadata": {
        "colab": {
          "base_uri": "https://localhost:8080/"
        },
        "id": "gwAEzh3KB5JI",
        "outputId": "2498453c-66d9-4a8c-b90b-6844a4f18812"
      },
      "execution_count": 26,
      "outputs": [
        {
          "output_type": "stream",
          "name": "stdout",
          "text": [
            "[[ 1  1  5]\n",
            " [ 1  2  0]\n",
            " [ 1  3  1]\n",
            " [ 1  4  1]\n",
            " [ 1  5  0]\n",
            " [ 1  6  0]\n",
            " [ 2  7  4]\n",
            " [ 2  8  1]\n",
            " [ 2  9  0]\n",
            " [ 2 10  1]\n",
            " [ 2 11  2]\n",
            " [ 2 12  0]\n",
            " [ 3 13  3]\n",
            " [ 3 14  2]\n",
            " [ 3 15  2]\n",
            " [ 3 16  1]\n",
            " [ 3 17  0]\n",
            " [ 3 18  0]\n",
            " [ 4 19  2]\n",
            " [ 4 20  2]\n",
            " [ 4 21  2]\n",
            " [ 4 22  1]\n",
            " [ 4 23  0]\n",
            " [ 4 24  0]\n",
            " [ 5 25  4]\n",
            " [ 5 26  3]\n",
            " [ 5 27  0]\n",
            " [ 5 28  0]\n",
            " [ 5 29  1]\n",
            " [ 5 30  0]]\n",
            "solucion = 38\n"
          ]
        }
      ]
    },
    {
      "cell_type": "code",
      "source": [
        "#Calculamos el costo de filmar las tomas ordenándolas primero con las\n",
        "#escenas que demanan menor cantidad de acotores y avanzando en orden ascendente\n",
        "\n",
        "ds = datos.sort_values(by='Total', ascending=True)\n",
        "ds = ds.drop(['Total'], axis =1)\n",
        "\n",
        "tomas_actores = np.array(datos[['1', '2','3','4', '5', '6', '7','8','9','10']])\n",
        "tomas = np.array(datos['Toma'])\n",
        "\n",
        "solucion = crear_dias_filmacion(tomas, tomas_actores)\n",
        "print (solucion)\n",
        "print (f'solucion = {np.sum(solucion[:,2], axis = 0)}')\n"
      ],
      "metadata": {
        "colab": {
          "base_uri": "https://localhost:8080/"
        },
        "id": "8pHhI6WpnnK6",
        "outputId": "413fc1b0-ac4d-467d-e8a0-3625e0d7dcfa"
      },
      "execution_count": 27,
      "outputs": [
        {
          "output_type": "stream",
          "name": "stdout",
          "text": [
            "[[ 1  1  5]\n",
            " [ 1  2  0]\n",
            " [ 1  3  1]\n",
            " [ 1  4  1]\n",
            " [ 1  5  0]\n",
            " [ 1  6  0]\n",
            " [ 2  7  4]\n",
            " [ 2  8  1]\n",
            " [ 2  9  0]\n",
            " [ 2 10  1]\n",
            " [ 2 11  2]\n",
            " [ 2 12  0]\n",
            " [ 3 13  3]\n",
            " [ 3 14  2]\n",
            " [ 3 15  2]\n",
            " [ 3 16  1]\n",
            " [ 3 17  0]\n",
            " [ 3 18  0]\n",
            " [ 4 19  2]\n",
            " [ 4 20  2]\n",
            " [ 4 21  2]\n",
            " [ 4 22  1]\n",
            " [ 4 23  0]\n",
            " [ 4 24  0]\n",
            " [ 5 25  4]\n",
            " [ 5 26  3]\n",
            " [ 5 27  0]\n",
            " [ 5 28  0]\n",
            " [ 5 29  1]\n",
            " [ 5 30  0]]\n",
            "solucion = 38\n"
          ]
        }
      ]
    },
    {
      "cell_type": "markdown",
      "source": [
        "## Búsqueda Aleatoria"
      ],
      "metadata": {
        "id": "cIlti99AxjSP"
      }
    },
    {
      "cell_type": "code",
      "source": [
        "# Solución con búsqueda aleatoria\n",
        "def busqueda_aleatoria(actores_en_toma):\n",
        "\n",
        "  # definimos a N como el número de iteraciones\n",
        "  n = 1000\n",
        "  mejor_costo = 10e100\n",
        "  mejor_solucion = []\n",
        "\n",
        "  while n > 0:\n",
        "\n",
        "    lista_tomas = crea_solucion_aleatoria().copy()\n",
        "    solucion = crear_dias_filmacion(lista_tomas, actores_en_toma)\n",
        "    costo_actual = np.sum(solucion[:,2], axis = 0)\n",
        "\n",
        "    if costo_actual < mejor_costo:\n",
        "      mejor_solucion = solucion\n",
        "      costo_actual = mejor_costo\n",
        "\n",
        "    n-=1\n",
        "\n",
        "  return mejor_solucion\n",
        "\n",
        "tomas_actores = np.array(datos[['1', '2','3','4', '5', '6', '7','8','9','10']])\n",
        "tomas = crea_solucion_aleatoria()\n",
        "\n",
        "solucion = busqueda_aleatoria( tomas_actores)\n",
        "print (solucion)\n",
        "print (f'solucion = {np.sum(solucion[:,2], axis = 0)}')\n"
      ],
      "metadata": {
        "colab": {
          "base_uri": "https://localhost:8080/"
        },
        "id": "qK9ts5mqtEQU",
        "outputId": "312a63e0-4881-4eb5-c165-46d9e7877766"
      },
      "execution_count": 34,
      "outputs": [
        {
          "output_type": "stream",
          "name": "stdout",
          "text": [
            "[[ 1 22  4]\n",
            " [ 1 15  1]\n",
            " [ 1 16  1]\n",
            " [ 1  6  1]\n",
            " [ 1 23  0]\n",
            " [ 1 25  0]\n",
            " [ 2  2  3]\n",
            " [ 2 10  4]\n",
            " [ 2  4  2]\n",
            " [ 2 19  0]\n",
            " [ 2  8  0]\n",
            " [ 2 11  0]\n",
            " [ 3  5  3]\n",
            " [ 3 17  2]\n",
            " [ 3 30  0]\n",
            " [ 3  7  1]\n",
            " [ 3 29  1]\n",
            " [ 3  1  0]\n",
            " [ 4 27  2]\n",
            " [ 4 28  1]\n",
            " [ 4 18  2]\n",
            " [ 4 13  0]\n",
            " [ 4  3  2]\n",
            " [ 4 14  0]\n",
            " [ 5 20  4]\n",
            " [ 5  9  1]\n",
            " [ 5 12  1]\n",
            " [ 5 24  0]\n",
            " [ 5 26  1]\n",
            " [ 5 21  1]]\n",
            "solucion = 38\n"
          ]
        }
      ]
    },
    {
      "cell_type": "markdown",
      "source": [
        "##Búsqueda local"
      ],
      "metadata": {
        "id": "dees4Xd7zDj2"
      }
    },
    {
      "cell_type": "code",
      "source": [
        "# Generamos solución vecina\n",
        "\n",
        "def genera_vecina(lista_tomas,actores_en_toma):\n",
        "  #Generador de soluciones vecinas mediante 2-opt\n",
        "\n",
        "  mejor_solucion = []\n",
        "  mejor_costo = 10e100\n",
        "\n",
        "  for i in range(1,len(lista_tomas)-1):\n",
        "    for j in range(i+1, len(lista_tomas)-1):\n",
        "\n",
        "      # intercalamos posiciones\n",
        "      lista_tomas[i], lista_tomas[j] =  + lista_tomas[j] , lista_tomas[i]\n",
        "\n",
        "      #Se evalua la nueva solución\n",
        "      solucion = crear_dias_filmacion(lista_tomas, actores_en_toma)\n",
        "      costo_actual = np.sum(solucion[:,2], axis = 0)\n",
        "\n",
        "      # Nos quedamos con la mejor solución\n",
        "      if costo_actual < mejor_costo:\n",
        "        mejor_solucion = solucion\n",
        "        costo_actual = mejor_costo\n",
        "\n",
        "  return mejor_solucion\n"
      ],
      "metadata": {
        "id": "60vO06LubXJY"
      },
      "execution_count": 35,
      "outputs": []
    },
    {
      "cell_type": "code",
      "source": [
        "# Solución con búsqueda local\n",
        "def busqueda_local(actores_en_toma):\n",
        "\n",
        "  solucion = busqueda_aleatoria(actores_en_toma)\n",
        "  lista_tomas = solucion[:,1]\n",
        "  mejor_costo = np.sum(solucion[:,2], axis = 0)\n",
        "  mejor_solucion = solucion\n",
        "\n",
        "  print(f'Solucion inicial = {lista_tomas}')\n",
        "  print(f'costo inicial = {mejor_costo}')\n",
        "  i = 10\n",
        "\n",
        "  while i >0 :\n",
        "    i-=1\n",
        "    solucion = genera_vecina(lista_tomas,actores_en_toma)\n",
        "    costo_tomas_vecina = np.sum(solucion[:,2], axis = 0)\n",
        "\n",
        "    if costo_tomas_vecina < mejor_costo:\n",
        "      mejor_solucion = solucion\n",
        "      lista_tomas = solucion[:,1]\n",
        "      mejor_costo = costo_tomas_vecina\n",
        "    #else:\n",
        "      #print(f'Solucion inicial = {mejor_solucion}')\n",
        "  print(f'Iteraciones = {i} costo final = {mejor_costo}')\n",
        "  return mejor_solucion\n",
        "\n",
        "tomas_actores = np.array(datos[['1', '2','3','4', '5', '6', '7','8','9','10']])\n",
        "\n",
        "solucion = busqueda_local(tomas_actores)\n",
        "print (solucion)\n",
        "print (f'solucion = {np.sum(solucion[:,2], axis = 0)}')"
      ],
      "metadata": {
        "colab": {
          "base_uri": "https://localhost:8080/"
        },
        "id": "gA1bILb6zCNI",
        "outputId": "bdbbad89-cdcc-4929-a20f-8b8ec2b629f5"
      },
      "execution_count": 38,
      "outputs": [
        {
          "output_type": "stream",
          "name": "stdout",
          "text": [
            "Solucion inicial = [28 22  2  9 16 19  5 15 11 24 30  8  3  4  1 13 10 27 14 21 29 26  7 18\n",
            " 12  6 25 23 20 17]\n",
            "costo inicial = 38\n",
            "Iteraciones = 0 costo final = 38\n",
            "[[ 1 28  2]\n",
            " [ 1 22  2]\n",
            " [ 1  2  1]\n",
            " [ 1  9  0]\n",
            " [ 1 16  1]\n",
            " [ 1 19  0]\n",
            " [ 2  5  3]\n",
            " [ 2 15  2]\n",
            " [ 2 11  2]\n",
            " [ 2 24  1]\n",
            " [ 2 30  0]\n",
            " [ 2  8  0]\n",
            " [ 3  3  3]\n",
            " [ 3  4  2]\n",
            " [ 3  1  2]\n",
            " [ 3 13  0]\n",
            " [ 3 10  2]\n",
            " [ 3 27  0]\n",
            " [ 4 14  3]\n",
            " [ 4 21  1]\n",
            " [ 4 29  1]\n",
            " [ 4 26  1]\n",
            " [ 4  7  2]\n",
            " [ 4 18  0]\n",
            " [ 5 12  5]\n",
            " [ 5  6  1]\n",
            " [ 5 25  1]\n",
            " [ 5 23  0]\n",
            " [ 5 20  0]\n",
            " [ 5 17  0]]\n",
            "solucion = 38\n"
          ]
        }
      ]
    },
    {
      "cell_type": "markdown",
      "source": [
        "## Solución Greedy"
      ],
      "metadata": {
        "id": "1kQV9yFYs9OD"
      }
    },
    {
      "cell_type": "code",
      "source": [
        "# Solución greedy\n",
        "def crea_lista_greedy(lista_tomas, actores_en_toma):\n",
        "\n",
        "  lista_tomas_disponibles = list(lista_tomas)\n",
        "  resultado_tomas =[]\n",
        "\n",
        "  toma = lista_tomas[0]\n",
        "  lista_tomas_disponibles.remove(toma)\n",
        "  actores_toma_actual = actores_en_toma[toma-1]\n",
        "  m_distancia_a_tomas = matriz_distancia_toma(actores_toma_actual, actores_en_toma)\n",
        "  #print(f'm_distancia_a_tomas = {m_distancia_a_tomas}')\n",
        "\n",
        "  resultado_tomas.append(toma)\n",
        "  m_distancia_a_tomas[toma-1] = 1000\n",
        "\n",
        "  while len(lista_tomas_disponibles) > 0:\n",
        "    toma_dist_menor = np.argmin(m_distancia_a_tomas) + 1\n",
        "\n",
        "    if toma_dist_menor in lista_tomas_disponibles:\n",
        "      resultado_tomas.append(toma_dist_menor)\n",
        "      lista_tomas_disponibles.remove(toma_dist_menor)\n",
        "      actores_toma_actual = adiciona_actor(actores_toma_actual,actores_en_toma[toma_dist_menor-1])\n",
        "      m_distancia_a_tomas = matriz_distancia_toma(actores_toma_actual, actores_en_toma)\n",
        "    else:\n",
        "      m_distancia_a_tomas[toma_dist_menor-1] = 1000\n",
        "\n",
        "  return np.array(resultado_tomas)\n"
      ],
      "metadata": {
        "id": "xyRMlPit9m-9"
      },
      "execution_count": 39,
      "outputs": []
    },
    {
      "cell_type": "code",
      "source": [
        "tomas_actores = np.array(datos[['1', '2','3','4', '5', '6', '7','8','9','10']])\n",
        "tomas_original = np.array(datos['Toma'])\n",
        "\n",
        "tomas = crea_lista_greedy(tomas_original, tomas_actores)\n",
        "\n",
        "solucion = crear_dias_filmacion(tomas, tomas_actores)\n",
        "print (solucion)\n",
        "print (f'solucion = {np.sum(solucion[:,2], axis = 0)}')"
      ],
      "metadata": {
        "colab": {
          "base_uri": "https://localhost:8080/"
        },
        "id": "-tA4scLZBFtH",
        "outputId": "7216bf68-88c9-400a-ef8c-9565113a1ff6"
      },
      "execution_count": 40,
      "outputs": [
        {
          "output_type": "stream",
          "name": "stdout",
          "text": [
            "[[ 1  1  5]\n",
            " [ 1  2  0]\n",
            " [ 1  6  0]\n",
            " [ 1  7  0]\n",
            " [ 1  9  0]\n",
            " [ 1 13  0]\n",
            " [ 2 17  2]\n",
            " [ 2 19  0]\n",
            " [ 2 20  2]\n",
            " [ 2 22  1]\n",
            " [ 2 23  0]\n",
            " [ 2 27  0]\n",
            " [ 3 28  2]\n",
            " [ 3 30  0]\n",
            " [ 3  3  3]\n",
            " [ 3 15  0]\n",
            " [ 3  4  1]\n",
            " [ 3  5  0]\n",
            " [ 4 11  5]\n",
            " [ 4  8  1]\n",
            " [ 4 12  1]\n",
            " [ 4 14  0]\n",
            " [ 4 18  0]\n",
            " [ 4 21  0]\n",
            " [ 5 24  2]\n",
            " [ 5 29  2]\n",
            " [ 5 10  2]\n",
            " [ 5 26  0]\n",
            " [ 5 16  2]\n",
            " [ 5 25  0]]\n",
            "solucion = 31\n"
          ]
        }
      ]
    },
    {
      "cell_type": "code",
      "source": [
        "tomas_actores = np.array(datos[['1', '2','3','4', '5', '6', '7','8','9','10']])\n",
        "tomas_original = crea_solucion_aleatoria()\n",
        "\n",
        "tomas = crea_lista_greedy(tomas_original, tomas_actores)\n",
        "\n",
        "solucion = crear_dias_filmacion(tomas, tomas_actores)\n",
        "print (solucion)\n",
        "print (f'solucion = {np.sum(solucion[:,2], axis = 0)}')"
      ],
      "metadata": {
        "colab": {
          "base_uri": "https://localhost:8080/"
        },
        "id": "2anYokqGBG0_",
        "outputId": "77d776e1-068c-43de-d35b-f8319de39a99"
      },
      "execution_count": 45,
      "outputs": [
        {
          "output_type": "stream",
          "name": "stdout",
          "text": [
            "[[ 1  6  4]\n",
            " [ 1  7  0]\n",
            " [ 1  9  0]\n",
            " [ 1 13  0]\n",
            " [ 1 27  0]\n",
            " [ 1 28  0]\n",
            " [ 2 30  2]\n",
            " [ 2  1  3]\n",
            " [ 2  2  0]\n",
            " [ 2 17  0]\n",
            " [ 2 19  0]\n",
            " [ 2 20  0]\n",
            " [ 3 22  4]\n",
            " [ 3 23  0]\n",
            " [ 3  3  2]\n",
            " [ 3 15  0]\n",
            " [ 3  4  1]\n",
            " [ 3  5  0]\n",
            " [ 4 11  5]\n",
            " [ 4  8  1]\n",
            " [ 4 12  1]\n",
            " [ 4 14  0]\n",
            " [ 4 18  0]\n",
            " [ 4 21  0]\n",
            " [ 5 24  2]\n",
            " [ 5 29  2]\n",
            " [ 5 10  2]\n",
            " [ 5 26  0]\n",
            " [ 5 16  2]\n",
            " [ 5 25  0]]\n",
            "solucion = 31\n"
          ]
        }
      ]
    }
  ]
}