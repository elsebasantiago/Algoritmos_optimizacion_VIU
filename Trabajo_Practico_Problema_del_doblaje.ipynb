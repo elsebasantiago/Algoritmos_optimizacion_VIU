{
  "nbformat": 4,
  "nbformat_minor": 0,
  "metadata": {
    "colab": {
      "provenance": [],
      "authorship_tag": "ABX9TyMYFkNKVIR9Jn5cpvrATVoi",
      "include_colab_link": true
    },
    "kernelspec": {
      "name": "python3",
      "display_name": "Python 3"
    },
    "language_info": {
      "name": "python"
    }
  },
  "cells": [
    {
      "cell_type": "markdown",
      "metadata": {
        "id": "view-in-github",
        "colab_type": "text"
      },
      "source": [
        "<a href=\"https://colab.research.google.com/github/elsebasantiago/Algoritmos_optimizacion_VIU/blob/main/Trabajo_Practico_Problema_del_doblaje.ipynb\" target=\"_parent\"><img src=\"https://colab.research.google.com/assets/colab-badge.svg\" alt=\"Open In Colab\"/></a>"
      ]
    },
    {
      "cell_type": "markdown",
      "source": [
        "# Trabajo Práctico\n",
        "# Sebastián Santiago\n",
        "Link repositorio github\n",
        "https://github.com/elsebasantiago/Algoritmos_optimizacion_VIU"
      ],
      "metadata": {
        "id": "DpG-g35ngnh6"
      }
    },
    {
      "cell_type": "markdown",
      "source": [
        "#1. Introducción\n",
        "### En el presente notebook se entrega el trabajo práctivo en donde se busca obtener el mejor resultado para el problema \"Problema 1. Organizar sesiones de doblaje(I)\".\n",
        "\n",
        "*  Consigna: Se precisa coordinar el doblaje de una película. Los actores del doblaje deben coincidir en las\n",
        "tomas en las que sus personajes aparecen juntos en las diferentes tomas. Los actores de\n",
        "doblaje cobran todos la misma cantidad por cada día que deben desplazarse hasta el estudio de\n",
        "grabación independientemente del número de tomas que se graben. No es posible grabar más\n",
        "de 6 tomas por día. El objetivo es planificar las sesiones por día de manera que el gasto por los\n",
        "servicios de los actores de doblaje sea el menor posible\n",
        "\n",
        "* Número de actores: 10\n",
        "* Número de tomas : 30\n",
        "* Actores/Tomas : https://bit.ly/36D8IuK\n",
        "\n",
        "\n",
        "### Se adjunta junto con la entrega del notebook 2 archivos:\n",
        "\n",
        "1.   Datos problema doblaje.csv: Contiene la información entregada del problema en formato CSV.\n",
        "2.   Datos problema doblaje-Analisis.xls: Contiene un excel con la validación manual de varios de resultados arrojados en las distintas aproximaciones de búsqueda de una solución.\n",
        "\n",
        "> En las secciones donde los resultados sean deterministas, se hace referencia al libro en el excel donde se encuentra la verificación.\n",
        "\n",
        "\n",
        "\n",
        "\n",
        "\n"
      ],
      "metadata": {
        "id": "BY0JuqBr2Doc"
      }
    },
    {
      "cell_type": "code",
      "execution_count": 92,
      "metadata": {
        "id": "6FYAGn18ie7W"
      },
      "outputs": [],
      "source": [
        "import os\n",
        "import pandas as pd\n",
        "import numpy as np\n",
        "from collections import deque\n",
        "import random\n",
        "\n",
        "ruta = os.path.join(\"\" ,\"Datos problema doblaje.csv\")\n",
        "datos = pd.read_csv(ruta, sep=',')\n",
        "datos = datos.drop(['Unnamed: 11'], axis =1)\n",
        "tomas_actores = np.array(datos[['1', '2','3','4', '5', '6', '7','8','9','10']])"
      ]
    },
    {
      "cell_type": "markdown",
      "source": [
        "##Funciones Básicas"
      ],
      "metadata": {
        "id": "6YNdcfKXsV7U"
      }
    },
    {
      "cell_type": "code",
      "source": [
        "# generamos la fucnión de cálculo del costo\n",
        "def costo_tomas(toma_origen, toma_destino):\n",
        "  v_costo = toma_origen - toma_destino\n",
        "  v_costo[v_costo > 0] = 0\n",
        "  return sum(pow(element,2) for element in v_costo)\n",
        "\n",
        "\n",
        "#Matriz de distancia entre tomas. Indica cuantos actores de diferencia tiene\n",
        "# cada toma en la lista original (lista_tomas) versus una toma en particular\n",
        "def matriz_distancia_toma(toma , lista_tomas):\n",
        "\n",
        "  #Obtenemos la diferencia\n",
        "  distancia_tomas = lista_tomas - toma\n",
        "\n",
        "  #Los actores con valores negativos indican que están considerados en la toma\n",
        "  # de comparación  por tanto, no los consideramos (igualamos a cero)\n",
        "  # A su vez, se anulan los actores que participan en ambas tomas\n",
        "  mask = distancia_tomas < 0\n",
        "  distancia_tomas[mask] = 0\n",
        "\n",
        "  #la suma de los actores restantes es la distancia entre las tomas\n",
        "  return np.sum(distancia_tomas, axis = 1)\n",
        "\n",
        "#Obtendremos el costo adicional que genera incorporar una nueva toma\n",
        "def costo_adicional_toma (toma1, toma2):\n",
        "\n",
        "  #creamos un vector diferencia entre tomas\n",
        "  v_dif_tomas = toma2 - toma1\n",
        "\n",
        "  #quitamos los valores negativos\n",
        "  mask = v_dif_tomas <0\n",
        "  v_dif_tomas[mask] = 0\n",
        "\n",
        "  #sumamos los valores restantes para obtener el costo adicional\n",
        "  #que incorporó la nueva toma\n",
        "  return np.sum(v_dif_tomas)\n",
        "\n",
        "\n",
        "#consideramos un actor mas a la lista de actores del día\n",
        "def adiciona_actor(toma1, toma2):\n",
        "  #obtenemos un vector que será la suma de los actores que participan\n",
        "  #en ambas tomas\n",
        "  v_sum_tomas = toma1 + toma2\n",
        "\n",
        "  #normalizamos en 1 las posiciones de actores que coinciden\n",
        "  mask = v_sum_tomas > 1\n",
        "  v_sum_tomas[mask] = 1\n",
        "\n",
        "  return v_sum_tomas\n",
        "\n",
        "# Función que crea na solución aleatoria\n",
        "def crea_solucion_aleatoria(n):\n",
        "  return np.array(random.sample(range(1, n+1), n))\n",
        "\n"
      ],
      "metadata": {
        "id": "0aYKe0w2APOc"
      },
      "execution_count": 80,
      "outputs": []
    },
    {
      "cell_type": "code",
      "source": [
        "# creamos una función que devuelve los días, tomas y costos\n",
        "def crear_dias_filmacion(lista_tomas, actores_en_toma):\n",
        "\n",
        "  dias_tomas = np.zeros((len(lista_tomas),3)).astype(int)\n",
        "  actores_toma_previa = np.zeros(actores_en_toma.shape[1])\n",
        "\n",
        "  #Creamos una lista tipo fifo para ir recorriendo las tomas en la secuencia entregada\n",
        "  lista_tomas_fifo = deque(lista_tomas.tolist())\n",
        "  costo_total=0\n",
        "\n",
        "  dia = 1\n",
        "  j = 1\n",
        "  i = 0\n",
        "\n",
        "  while lista_tomas_fifo:\n",
        "\n",
        "    # obtenemos el número de la primera toma\n",
        "    toma = lista_tomas_fifo.popleft()\n",
        "    #n_toma = lista_tomas[i]\n",
        "\n",
        "    # obtenemos los actores que participan en la toma\n",
        "    actores_toma_actual = actores_en_toma[toma-1]\n",
        "\n",
        "    # Calculamos el costo de la toma, según la cantidad de actores\n",
        "    costo_toma = np.sum(actores_toma_actual)\n",
        "    costo_total += costo_toma\n",
        "\n",
        "    # Matríz (día de toma, número de toma)z\n",
        "    dias_tomas[i]= [dia, toma, costo_toma]\n",
        "\n",
        "    #print(f'día = {dia} nro_toma = {toma} toma actual = {actores_toma_actual} costo = {costo_toma}')\n",
        "\n",
        "    j=1\n",
        "\n",
        "    while j < 6 and lista_tomas_fifo:\n",
        "\n",
        "      #Tomamos la siguiente toma en la lista\n",
        "      toma = lista_tomas_fifo.popleft()\n",
        "\n",
        "      #Obtenemos los actores que deben participar en la siguiente toma en la lista\n",
        "      actores_toma_siguiente = actores_en_toma[toma-1]\n",
        "\n",
        "      #Calculamos el costo adiciona que conlleva considerar la nueva toma\n",
        "      costo_toma = costo_adicional_toma(actores_toma_actual, actores_toma_siguiente)\n",
        "\n",
        "      #Almacenamos el día, número de toma y costo adicional de la nueva toma\n",
        "      dias_tomas[i+j]= [dia, toma, costo_toma]\n",
        "\n",
        "      #print(f'dia = {dia} nro_toma = {toma} toma actual = {actores_toma_siguiente} costo = {costo_toma}')\n",
        "\n",
        "      #Incluimos los nuevos actores a la lista de actores considerados para el día\n",
        "      actores_toma_actual = adiciona_actor(actores_toma_actual,actores_toma_siguiente)\n",
        "      costo_total += costo_toma\n",
        "      j+=1\n",
        "\n",
        "    i+=j\n",
        "    dia +=1\n",
        "  #print (f'costo total = {costo_total}')\n",
        "  return dias_tomas\n"
      ],
      "metadata": {
        "id": "59dmuvA8xMhr"
      },
      "execution_count": 3,
      "outputs": []
    },
    {
      "cell_type": "markdown",
      "source": [
        "## 2. Prueba de diferentes soluciones manuales"
      ],
      "metadata": {
        "id": "Bh31PYsUspEp"
      }
    },
    {
      "cell_type": "markdown",
      "source": [
        "#### En una primera instancia obtendremos posibles soluciones manuales considerando diferentes ordenamiento de las tomas, y así obtener diferentes líneas bases de resultados con los cuales comparar.\n",
        "\n",
        "#### Luego veremos si con un aproximación metaheurística podríamos obtener mejores resultados\n"
      ],
      "metadata": {
        "id": "kPf4f582h6G3"
      }
    },
    {
      "cell_type": "code",
      "source": [
        "#Calculamos el costo de filmar las tomas en el orden presentado (de menor a mayor)\n",
        "# Libro Excel: \"Orden Original\"\n",
        "\n",
        "ds = datos.sort_values(by='Toma', ascending=True)\n",
        "tomas = np.array(ds['Toma'])\n",
        "\n",
        "solucion = crear_dias_filmacion(tomas, tomas_actores)\n",
        "print (solucion)\n",
        "print (f'solucion = {np.sum(solucion[:,2], axis = 0)}')"
      ],
      "metadata": {
        "colab": {
          "base_uri": "https://localhost:8080/"
        },
        "id": "sb0IIhxWU__O",
        "outputId": "0a5031cf-d61f-49d8-ae40-d35b3de641f1"
      },
      "execution_count": 19,
      "outputs": [
        {
          "output_type": "stream",
          "name": "stdout",
          "text": [
            "[[ 1  1  5]\n",
            " [ 1  2  0]\n",
            " [ 1  3  1]\n",
            " [ 1  4  1]\n",
            " [ 1  5  0]\n",
            " [ 1  6  0]\n",
            " [ 2  7  4]\n",
            " [ 2  8  1]\n",
            " [ 2  9  0]\n",
            " [ 2 10  1]\n",
            " [ 2 11  2]\n",
            " [ 2 12  0]\n",
            " [ 3 13  3]\n",
            " [ 3 14  2]\n",
            " [ 3 15  2]\n",
            " [ 3 16  1]\n",
            " [ 3 17  0]\n",
            " [ 3 18  0]\n",
            " [ 4 19  2]\n",
            " [ 4 20  2]\n",
            " [ 4 21  2]\n",
            " [ 4 22  1]\n",
            " [ 4 23  0]\n",
            " [ 4 24  0]\n",
            " [ 5 25  4]\n",
            " [ 5 26  3]\n",
            " [ 5 27  0]\n",
            " [ 5 28  0]\n",
            " [ 5 29  1]\n",
            " [ 5 30  0]]\n",
            "solucion = 38\n"
          ]
        }
      ]
    },
    {
      "cell_type": "code",
      "source": [
        "#Calculamos el costo de filmar las tomas en el orden inverso\n",
        "#al presentado (de mayor a menor)\n",
        "# Libro Excel: \"Orden Inverso Original\"\n",
        "\n",
        "ds =datos.sort_values(by='Toma', ascending=False)\n",
        "tomas = np.array(ds['Toma'])\n",
        "\n",
        "solucion = crear_dias_filmacion(tomas, tomas_actores)\n",
        "print (solucion)\n",
        "print (f'solucion = {np.sum(solucion[:,2], axis = 0)}')"
      ],
      "metadata": {
        "colab": {
          "base_uri": "https://localhost:8080/"
        },
        "id": "C6iidFo6mMuf",
        "outputId": "65005cf4-d8b0-4d81-e81d-d28c7e5c87af"
      },
      "execution_count": 94,
      "outputs": [
        {
          "output_type": "stream",
          "name": "stdout",
          "text": [
            "[[ 1 30  2]\n",
            " [ 1 29  2]\n",
            " [ 1 28  0]\n",
            " [ 1 27  0]\n",
            " [ 1 26  2]\n",
            " [ 1 25  2]\n",
            " [ 2 24  2]\n",
            " [ 2 23  1]\n",
            " [ 2 22  2]\n",
            " [ 2 21  1]\n",
            " [ 2 20  1]\n",
            " [ 2 19  0]\n",
            " [ 3 18  2]\n",
            " [ 3 17  1]\n",
            " [ 3 16  2]\n",
            " [ 3 15  2]\n",
            " [ 3 14  0]\n",
            " [ 3 13  1]\n",
            " [ 4 12  5]\n",
            " [ 4 11  2]\n",
            " [ 4 10  1]\n",
            " [ 4  9  0]\n",
            " [ 4  8  0]\n",
            " [ 4  7  0]\n",
            " [ 5  6  4]\n",
            " [ 5  5  1]\n",
            " [ 5  4  1]\n",
            " [ 5  3  0]\n",
            " [ 5  2  1]\n",
            " [ 5  1  0]]\n",
            "solucion = 38\n"
          ]
        }
      ]
    },
    {
      "cell_type": "code",
      "source": [
        "#Calculamos el costo de filmar las tomas ordenándolas primero con las\n",
        "#escenas que demanan mayor cantidad de acotores y avanzando en orden decreciente\n",
        "# Libro Excel: \"Orden Total Descendente\"\n",
        "\n",
        "ds = datos.sort_values(by='Total', ascending=False)\n",
        "ds = ds.drop(['Total'], axis =1)\n",
        "\n",
        "tomas = np.array(ds['Toma'])\n",
        "\n",
        "solucion = crear_dias_filmacion(tomas, tomas_actores)\n",
        "print (solucion)\n",
        "print (f'solucion = {np.sum(solucion[:,2], axis = 0)}')\n"
      ],
      "metadata": {
        "colab": {
          "base_uri": "https://localhost:8080/"
        },
        "id": "gwAEzh3KB5JI",
        "outputId": "f3a320ea-977b-4550-a2da-c4b625ca6d1f"
      },
      "execution_count": 22,
      "outputs": [
        {
          "output_type": "stream",
          "name": "stdout",
          "text": [
            "[[ 1  1  5]\n",
            " [ 1 11  1]\n",
            " [ 1 12  1]\n",
            " [ 1  4  1]\n",
            " [ 1 10  1]\n",
            " [ 1 22  0]\n",
            " [ 2 26  4]\n",
            " [ 2 20  1]\n",
            " [ 2 25  2]\n",
            " [ 2  7  0]\n",
            " [ 2  6  0]\n",
            " [ 2  9  0]\n",
            " [ 3  3  3]\n",
            " [ 3 13  2]\n",
            " [ 3  5  1]\n",
            " [ 3 15  0]\n",
            " [ 3  2  1]\n",
            " [ 3 29  1]\n",
            " [ 4  8  3]\n",
            " [ 4 14  1]\n",
            " [ 4 24  0]\n",
            " [ 4 28  1]\n",
            " [ 4 27  1]\n",
            " [ 4 16  1]\n",
            " [ 5 23  2]\n",
            " [ 5 21  2]\n",
            " [ 5 19  0]\n",
            " [ 5 18  0]\n",
            " [ 5 17  0]\n",
            " [ 5 30  1]]\n",
            "solucion = 36\n"
          ]
        }
      ]
    },
    {
      "cell_type": "code",
      "source": [
        "#Calculamos el costo de filmar las tomas ordenándolas primero con las\n",
        "#escenas que demanan menor cantidad de acotores y avanzando en orden ascendente\n",
        "# Libro Excel: \"Orden Total Ascendente\"\n",
        "\n",
        "ds = datos.sort_values(by='Total', ascending=True)\n",
        "ds = ds.drop(['Total'], axis =1)\n",
        "\n",
        "tomas = np.array(ds['Toma'])\n",
        "\n",
        "solucion = crear_dias_filmacion(tomas, tomas_actores)\n",
        "print (solucion)\n",
        "print (f'solucion = {np.sum(solucion[:,2], axis = 0)}')"
      ],
      "metadata": {
        "colab": {
          "base_uri": "https://localhost:8080/"
        },
        "id": "8pHhI6WpnnK6",
        "outputId": "c054b7bb-befd-47c9-dd18-7a15522257ee"
      },
      "execution_count": 96,
      "outputs": [
        {
          "output_type": "stream",
          "name": "stdout",
          "text": [
            "[[ 1 30  2]\n",
            " [ 1 28  0]\n",
            " [ 1 27  1]\n",
            " [ 1 24  2]\n",
            " [ 1 23  0]\n",
            " [ 1 21  1]\n",
            " [ 2 19  2]\n",
            " [ 2 18  1]\n",
            " [ 2 17  0]\n",
            " [ 2 16  2]\n",
            " [ 2 29  1]\n",
            " [ 2 14  0]\n",
            " [ 3 15  3]\n",
            " [ 3  2  3]\n",
            " [ 3  9  0]\n",
            " [ 3  8  1]\n",
            " [ 3 13  0]\n",
            " [ 3  5  1]\n",
            " [ 4  3  3]\n",
            " [ 4 22  3]\n",
            " [ 4 10  2]\n",
            " [ 4  7  0]\n",
            " [ 4 20  0]\n",
            " [ 4  6  0]\n",
            " [ 5  4  4]\n",
            " [ 5 25  2]\n",
            " [ 5 26  3]\n",
            " [ 5 12  1]\n",
            " [ 5 11  0]\n",
            " [ 5  1  0]]\n",
            "solucion = 38\n"
          ]
        }
      ]
    },
    {
      "cell_type": "markdown",
      "source": [
        "#### Notas:\n",
        "\n",
        "\n",
        "*   Mejor resultado obtenido: 36\n",
        "*   El mejor resultado se obtuvo ordenando las escensas primero aquellas que tienen mayor participación de actores y avanzando en orden descendente.\n",
        "\n"
      ],
      "metadata": {
        "id": "PLs11g43kTps"
      }
    },
    {
      "cell_type": "markdown",
      "source": [
        "# 3. Procedimiéntos Metaheurísticos\n",
        "#### En la siguiente sección aplicaremos distíntas técnicas metaheurísticas buscando obtener soluciones que mejoren el resultado obtenido hasta ahora (36)"
      ],
      "metadata": {
        "id": "_fCZsVVsjzHz"
      }
    },
    {
      "cell_type": "markdown",
      "source": [
        "## Búsqueda Aleatoria"
      ],
      "metadata": {
        "id": "cIlti99AxjSP"
      }
    },
    {
      "cell_type": "code",
      "source": [
        "# Solución con búsqueda aleatoria\n",
        "def busqueda_aleatoria(actores_en_toma):\n",
        "\n",
        "  # definimos a N como el número de iteraciones\n",
        "  n = 1000\n",
        "  mejor_costo = 10e100\n",
        "  mejor_solucion = []\n",
        "  nt= len(actores_en_toma)\n",
        "\n",
        "  while n > 0:\n",
        "\n",
        "    lista_tomas = crea_solucion_aleatoria(nt)\n",
        "    solucion = crear_dias_filmacion(lista_tomas, actores_en_toma)\n",
        "    costo_actual = np.sum(solucion[:,2], axis = 0)\n",
        "\n",
        "    if costo_actual < mejor_costo:\n",
        "      mejor_solucion = solucion\n",
        "      costo_actual = mejor_costo\n",
        "\n",
        "    n-=1\n",
        "\n",
        "  return mejor_solucion\n"
      ],
      "metadata": {
        "id": "qK9ts5mqtEQU"
      },
      "execution_count": 81,
      "outputs": []
    },
    {
      "cell_type": "code",
      "source": [
        "# Invocamos la función de busqueda aleatoria buscando otbener buenas soluciones\n",
        "tomas = crea_solucion_aleatoria(len(tomas_actores))\n",
        "\n",
        "solucion = busqueda_aleatoria( tomas_actores)\n",
        "print (solucion)\n",
        "print (f'solucion = {np.sum(solucion[:,2], axis = 0)}')\n"
      ],
      "metadata": {
        "colab": {
          "base_uri": "https://localhost:8080/"
        },
        "id": "Ly0zhEtXlRwO",
        "outputId": "e25ed6fc-4c1f-4535-b45d-09e4dc5fa34e"
      },
      "execution_count": 84,
      "outputs": [
        {
          "output_type": "stream",
          "name": "stdout",
          "text": [
            "[[ 1 24  2]\n",
            " [ 1  9  3]\n",
            " [ 1 20  1]\n",
            " [ 1 12  0]\n",
            " [ 1 18  0]\n",
            " [ 1 27  0]\n",
            " [ 2 15  3]\n",
            " [ 2  6  2]\n",
            " [ 2  1  1]\n",
            " [ 2  5  1]\n",
            " [ 2  8  1]\n",
            " [ 2 14  0]\n",
            " [ 3 26  4]\n",
            " [ 3 29  1]\n",
            " [ 3 10  1]\n",
            " [ 3  7  1]\n",
            " [ 3 30  0]\n",
            " [ 3 17  0]\n",
            " [ 4 11  5]\n",
            " [ 4 19  0]\n",
            " [ 4 25  2]\n",
            " [ 4 13  0]\n",
            " [ 4  3  1]\n",
            " [ 4 23  0]\n",
            " [ 5 28  2]\n",
            " [ 5 16  1]\n",
            " [ 5 21  2]\n",
            " [ 5 22  2]\n",
            " [ 5  4  1]\n",
            " [ 5  2  1]]\n",
            "solucion = 38\n"
          ]
        }
      ]
    },
    {
      "cell_type": "markdown",
      "source": [
        "##Búsqueda local"
      ],
      "metadata": {
        "id": "dees4Xd7zDj2"
      }
    },
    {
      "cell_type": "code",
      "source": [
        "# Generamos solución vecina\n",
        "\n",
        "def genera_vecina(lista_tomas,actores_en_toma):\n",
        "  #Generador de soluciones vecinas mediante 2-opt\n",
        "\n",
        "  mejor_solucion = []\n",
        "  mejor_costo = 10e100\n",
        "\n",
        "  for i in range(1,len(lista_tomas)-1):\n",
        "    for j in range(i+1, len(lista_tomas)-1):\n",
        "\n",
        "      # intercalamos posiciones\n",
        "      lista_tomas[i], lista_tomas[j] =  lista_tomas[j] , lista_tomas[i]\n",
        "\n",
        "      #Se evalua la nueva solución\n",
        "      solucion = crear_dias_filmacion(lista_tomas, actores_en_toma)\n",
        "      costo_actual = np.sum(solucion[:,2], axis = 0)\n",
        "\n",
        "      # Nos quedamos con la mejor solución\n",
        "      if costo_actual < mejor_costo:\n",
        "        mejor_solucion = solucion\n",
        "        costo_actual = mejor_costo\n",
        "\n",
        "  return mejor_solucion\n"
      ],
      "metadata": {
        "id": "60vO06LubXJY"
      },
      "execution_count": 43,
      "outputs": []
    },
    {
      "cell_type": "code",
      "source": [
        "# Solución con búsqueda local\n",
        "def busqueda_local(actores_en_toma):\n",
        "\n",
        "  solucion = busqueda_aleatoria(actores_en_toma)\n",
        "  lista_tomas = solucion[:,1]\n",
        "  mejor_costo = np.sum(solucion[:,2], axis = 0)\n",
        "  mejor_solucion = solucion\n",
        "\n",
        "  print(f'Solucion inicial = {lista_tomas}')\n",
        "  print(f'costo inicial = {mejor_costo}')\n",
        "  i = 50\n",
        "\n",
        "  while i >0 :\n",
        "    i-=1\n",
        "    solucion = genera_vecina(lista_tomas,actores_en_toma)\n",
        "    costo_tomas_vecina = np.sum(solucion[:,2], axis = 0)\n",
        "\n",
        "    if costo_tomas_vecina < mejor_costo:\n",
        "      mejor_solucion = solucion\n",
        "      lista_tomas = solucion[:,1]\n",
        "      mejor_costo = costo_tomas_vecina\n",
        "\n",
        "  print(f'Costo final = {mejor_costo}')\n",
        "  return mejor_solucion\n",
        "\n",
        "\n",
        "solucion = busqueda_local(tomas_actores)\n",
        "print (solucion)\n",
        "print (f'solucion = {np.sum(solucion[:,2], axis = 0)}')"
      ],
      "metadata": {
        "colab": {
          "base_uri": "https://localhost:8080/"
        },
        "id": "gA1bILb6zCNI",
        "outputId": "d82aae0a-d9b9-449f-d789-fcfb0988eb08"
      },
      "execution_count": 45,
      "outputs": [
        {
          "output_type": "stream",
          "name": "stdout",
          "text": [
            "Solucion inicial = [10 19 15 20 25 18 13 21  3  9 22 14 29 27 12  4  2  1  5 16 23  6 28 17\n",
            " 11  7 30 24 26  8]\n",
            "costo inicial = 40\n",
            "Costo final = 39\n",
            "[[ 1 10  4]\n",
            " [ 1 19  2]\n",
            " [ 1 15  0]\n",
            " [ 1 20  1]\n",
            " [ 1 25  0]\n",
            " [ 1 18  1]\n",
            " [ 2 13  2]\n",
            " [ 2 21  1]\n",
            " [ 2  3  2]\n",
            " [ 2  9  0]\n",
            " [ 2 22  1]\n",
            " [ 2 14  1]\n",
            " [ 3 29  5]\n",
            " [ 3 27  0]\n",
            " [ 3 12  2]\n",
            " [ 3  4  1]\n",
            " [ 3  2  0]\n",
            " [ 3  1  0]\n",
            " [ 4  5  3]\n",
            " [ 4 16  2]\n",
            " [ 4 23  0]\n",
            " [ 4  6  2]\n",
            " [ 4 28  1]\n",
            " [ 4 17  0]\n",
            " [ 5 11  2]\n",
            " [ 5  7  4]\n",
            " [ 5 30  1]\n",
            " [ 5 24  1]\n",
            " [ 5 26  0]\n",
            " [ 5  8  0]]\n",
            "solucion = 39\n"
          ]
        }
      ]
    },
    {
      "cell_type": "markdown",
      "source": [
        "## Solución Greedy"
      ],
      "metadata": {
        "id": "1kQV9yFYs9OD"
      }
    },
    {
      "cell_type": "code",
      "source": [
        "# Solución greedy\n",
        "# busca la mejor solución obteniendo la mejor toma siguiente por medio\n",
        "# de un algoritmo voraa, con lo cual escoje la siguiente toma con la menor\n",
        "# distancia, es decir, con la menor cantidad de actores adicionales\n",
        "# Libro Excel: \"Greedy\"\n",
        "\n",
        "def crea_lista_greedy(lista_tomas, actores_en_toma):\n",
        "\n",
        "  lista_tomas_disponibles = list(lista_tomas)\n",
        "  resultado_tomas =[]\n",
        "\n",
        "  toma = lista_tomas[0]\n",
        "  lista_tomas_disponibles.remove(toma)\n",
        "  actores_toma_actual = actores_en_toma[toma-1]\n",
        "  m_distancia_a_tomas = matriz_distancia_toma(actores_toma_actual, actores_en_toma)\n",
        "  #print(f'm_distancia_a_tomas = {m_distancia_a_tomas}')\n",
        "\n",
        "  resultado_tomas.append(toma)\n",
        "  m_distancia_a_tomas[toma-1] = 1000\n",
        "\n",
        "  while len(lista_tomas_disponibles) > 0:\n",
        "    toma_dist_menor = np.argmin(m_distancia_a_tomas) + 1\n",
        "\n",
        "    if toma_dist_menor in lista_tomas_disponibles:\n",
        "      resultado_tomas.append(toma_dist_menor)\n",
        "      lista_tomas_disponibles.remove(toma_dist_menor)\n",
        "      actores_toma_actual = adiciona_actor(actores_toma_actual,actores_en_toma[toma_dist_menor-1])\n",
        "      m_distancia_a_tomas = matriz_distancia_toma(actores_toma_actual, actores_en_toma)\n",
        "    else:\n",
        "      m_distancia_a_tomas[toma_dist_menor-1] = 1000\n",
        "\n",
        "  return np.array(resultado_tomas)\n"
      ],
      "metadata": {
        "id": "xyRMlPit9m-9"
      },
      "execution_count": 47,
      "outputs": []
    },
    {
      "cell_type": "code",
      "source": [
        "# Obtenemos un resultado por medio de un algoritmo greedy, partiendo de la lísta\n",
        "# de tomas y actores en el orden original.\n",
        "\n",
        "tomas_original = np.array(datos['Toma'])\n",
        "\n",
        "tomas = crea_lista_greedy(tomas_original, tomas_actores)\n",
        "\n",
        "solucion = crear_dias_filmacion(tomas, tomas_actores)\n",
        "print (solucion)\n",
        "print (f'solucion = {np.sum(solucion[:,2], axis = 0)}')"
      ],
      "metadata": {
        "colab": {
          "base_uri": "https://localhost:8080/"
        },
        "id": "-tA4scLZBFtH",
        "outputId": "b8868bb5-f07e-42c8-bd03-16ed9d36a617"
      },
      "execution_count": 51,
      "outputs": [
        {
          "output_type": "stream",
          "name": "stdout",
          "text": [
            "[[ 1  1  5]\n",
            " [ 1  2  0]\n",
            " [ 1  6  0]\n",
            " [ 1  7  0]\n",
            " [ 1  9  0]\n",
            " [ 1 13  0]\n",
            " [ 2 17  2]\n",
            " [ 2 19  0]\n",
            " [ 2 20  2]\n",
            " [ 2 22  1]\n",
            " [ 2 23  0]\n",
            " [ 2 27  0]\n",
            " [ 3 28  2]\n",
            " [ 3 30  0]\n",
            " [ 3  3  3]\n",
            " [ 3 15  0]\n",
            " [ 3  4  1]\n",
            " [ 3  5  0]\n",
            " [ 4 11  5]\n",
            " [ 4  8  1]\n",
            " [ 4 12  1]\n",
            " [ 4 14  0]\n",
            " [ 4 18  0]\n",
            " [ 4 21  0]\n",
            " [ 5 24  2]\n",
            " [ 5 29  2]\n",
            " [ 5 10  2]\n",
            " [ 5 26  0]\n",
            " [ 5 16  2]\n",
            " [ 5 25  0]]\n",
            "solucion = 31\n"
          ]
        }
      ]
    },
    {
      "cell_type": "code",
      "source": [
        "# Solución greedy Multiarranque\n",
        "# busca la mejor solución comenzando desde distintas\n",
        "# configuraciones de órdenes de toma y por cada una busca la mejor toma por medio\n",
        "# de un algoritmo voraz obteniendo la siguiente toma con la menor distancia, es decir,\n",
        "# con la menor cantidad de actores adicionales\n",
        "def solucion_greedy_multiarranque(actores_en_toma):\n",
        "\n",
        "  lista_tomas  = []\n",
        "  mejor_costo = 10e100\n",
        "  mejor_solucion = []\n",
        "  nt = len(actores_en_toma)\n",
        "\n",
        "  n = 1000\n",
        "\n",
        "  for i in range(n):\n",
        "    tomas_multiarranque = crea_solucion_aleatoria(nt)\n",
        "    lista_tomas = crea_lista_greedy(tomas_multiarranque, actores_en_toma)\n",
        "    solucion = crear_dias_filmacion(lista_tomas, tomas_actores)\n",
        "    costo_nueva_solucion = np.sum(solucion[:,2], axis = 0)\n",
        "\n",
        "    if costo_nueva_solucion < mejor_costo:\n",
        "      mejor_solucion = solucion\n",
        "      lista_tomas = solucion[:,1]\n",
        "      mejor_costo = costo_nueva_solucion\n",
        "      print(f'Iteracion = {i} Costo = {mejor_costo}')\n",
        "\n",
        "  return mejor_solucion"
      ],
      "metadata": {
        "id": "X1mBOTaVsTZz"
      },
      "execution_count": 85,
      "outputs": []
    },
    {
      "cell_type": "code",
      "source": [
        "#Invocamos a la solución greedy multiarranque\n",
        "\n",
        "solucion = solucion_greedy_multiarranque( tomas_actores)\n",
        "print (solucion)\n",
        "print (f'solucion = {np.sum(solucion[:,2], axis = 0)}')"
      ],
      "metadata": {
        "colab": {
          "base_uri": "https://localhost:8080/"
        },
        "id": "2anYokqGBG0_",
        "outputId": "05454bfd-3345-4dff-e63b-339138c46e4e"
      },
      "execution_count": 86,
      "outputs": [
        {
          "output_type": "stream",
          "name": "stdout",
          "text": [
            "Iteracion = 0 Costo = 31\n",
            "Iteracion = 1 Costo = 29\n",
            "[[ 1 23  2]\n",
            " [ 1 17  0]\n",
            " [ 1 19  0]\n",
            " [ 1 14  1]\n",
            " [ 1 18  0]\n",
            " [ 1 24  0]\n",
            " [ 2  8  3]\n",
            " [ 2  9  1]\n",
            " [ 2 12  1]\n",
            " [ 2 22  0]\n",
            " [ 2 28  0]\n",
            " [ 2 30  0]\n",
            " [ 3  1  5]\n",
            " [ 3  2  0]\n",
            " [ 3  6  0]\n",
            " [ 3  7  0]\n",
            " [ 3 13  0]\n",
            " [ 3 20  0]\n",
            " [ 4 27  2]\n",
            " [ 4 29  2]\n",
            " [ 4  3  2]\n",
            " [ 4 15  0]\n",
            " [ 4  4  1]\n",
            " [ 4  5  0]\n",
            " [ 5 11  5]\n",
            " [ 5 21  1]\n",
            " [ 5 10  1]\n",
            " [ 5 26  0]\n",
            " [ 5 16  2]\n",
            " [ 5 25  0]]\n",
            "solucion = 29\n"
          ]
        }
      ]
    },
    {
      "cell_type": "markdown",
      "source": [
        "#4. Conclusión:\n",
        "La mejor solución se obtiene con el algoritmo greedy con multiarranque, con un costo de 29.\n"
      ],
      "metadata": {
        "id": "p86JjfXZG2p7"
      }
    },
    {
      "cell_type": "markdown",
      "source": [
        "#5. Bonus.\n",
        "#### Probamos la solución con en un escenario de 60 tomas y 10 actores generada de forma aleatoria."
      ],
      "metadata": {
        "id": "tPXHGmpHHLu_"
      }
    },
    {
      "cell_type": "code",
      "source": [
        "# Probamos la solución si tuviérmos un número mayor de tomas\n",
        "# Para eso creamos una matriz con 1 y 0 de manera aleatoria, con 60 tomas y 10 actores\n",
        "\n",
        "tomas_actores = np.random.randint(2, size=(60, 10))\n",
        "solucion = solucion_greedy_multiarranque(tomas_actores)\n",
        "print (solucion)\n",
        "print (f'solucion = {np.sum(solucion[:,2], axis = 0)}')\n"
      ],
      "metadata": {
        "colab": {
          "base_uri": "https://localhost:8080/"
        },
        "id": "kZBnZHdI72-a",
        "outputId": "67c1b44a-b71a-43fd-89a0-271b9938d1aa"
      },
      "execution_count": 88,
      "outputs": [
        {
          "output_type": "stream",
          "name": "stdout",
          "text": [
            "Iteracion = 0 Costo = 89\n",
            "Iteracion = 1 Costo = 87\n",
            "Iteracion = 11 Costo = 86\n",
            "[[ 1 22  4]\n",
            " [ 1 35  0]\n",
            " [ 1 10  1]\n",
            " [ 1 16  0]\n",
            " [ 1  8  1]\n",
            " [ 1 15  0]\n",
            " [ 2 53  3]\n",
            " [ 2 58  2]\n",
            " [ 2  3  2]\n",
            " [ 2 26  0]\n",
            " [ 2 45  0]\n",
            " [ 2 52  0]\n",
            " [ 3 57  4]\n",
            " [ 3  1  2]\n",
            " [ 3  2  0]\n",
            " [ 3 19  1]\n",
            " [ 3 20  0]\n",
            " [ 3 24  0]\n",
            " [ 4 39  4]\n",
            " [ 4  4  4]\n",
            " [ 4  6  1]\n",
            " [ 4 11  0]\n",
            " [ 4 13  0]\n",
            " [ 4 14  0]\n",
            " [ 5 25  4]\n",
            " [ 5 28  1]\n",
            " [ 5 30  1]\n",
            " [ 5 37  1]\n",
            " [ 5 48  2]\n",
            " [ 5 50  0]\n",
            " [ 6 51  4]\n",
            " [ 6 55  3]\n",
            " [ 6 60  1]\n",
            " [ 6  5  1]\n",
            " [ 6  7  0]\n",
            " [ 6  9  1]\n",
            " [ 7 12  6]\n",
            " [ 7 17  1]\n",
            " [ 7 18  2]\n",
            " [ 7 21  0]\n",
            " [ 7 23  0]\n",
            " [ 7 27  1]\n",
            " [ 8 29  6]\n",
            " [ 8 31  0]\n",
            " [ 8 32  3]\n",
            " [ 8 33  0]\n",
            " [ 8 34  0]\n",
            " [ 8 36  0]\n",
            " [ 9 38  5]\n",
            " [ 9 40  1]\n",
            " [ 9 41  2]\n",
            " [ 9 42  0]\n",
            " [ 9 43  1]\n",
            " [ 9 44  0]\n",
            " [10 46  4]\n",
            " [10 47  4]\n",
            " [10 49  2]\n",
            " [10 54  0]\n",
            " [10 56  0]\n",
            " [10 59  0]]\n",
            "solucion = 86\n"
          ]
        }
      ]
    }
  ]
}